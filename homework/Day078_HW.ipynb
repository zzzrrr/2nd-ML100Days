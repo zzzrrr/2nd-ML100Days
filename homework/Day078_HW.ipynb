{
 "cells": [
  {
   "cell_type": "markdown",
   "metadata": {},
   "source": [
    "## Work\n",
    "1. 請嘗試將 preproc_x 替換成以每筆資料的 min/max 進行標準化至 -1 ~ 1 間，再進行訓練\n",
    "2. 請嘗試將 mlp 疊更深 (e.g 5~10 層)，進行訓練後觀察 learning curve 的走勢\n",
    "3. (optional) 請改用 GPU 進行訓練 (如果你有 GPU 的話)，比較使用 CPU 與 GPU 的訓練速度"
   ]
  },
  {
   "cell_type": "code",
   "execution_count": 30,
   "metadata": {},
   "outputs": [],
   "source": [
    "import os\n",
    "import keras\n",
    "\n",
    "# 啟用 GPU, 將 GPU 設定在有空檔的 GPU\n",
    "os.environ[\"CUDA_DEVICE_ORDER\"]=\"PCI_BUS_ID\" # 設定 smi 看到的 GPU ID 符合實際設定的順序 (若一台機器有多張不同型號的卡時，會有此類問題)\n",
    "os.environ[\"CUDA_VISIBLE_DEVICES\"] = \"0\"\n"
   ]
  },
  {
   "cell_type": "code",
   "execution_count": 31,
   "metadata": {},
   "outputs": [],
   "source": [
    "train, test = keras.datasets.cifar10.load_data()"
   ]
  },
  {
   "cell_type": "code",
   "execution_count": 32,
   "metadata": {},
   "outputs": [],
   "source": [
    "## 資料前處理\n",
    "\n",
    "def preproc_x(x, flatten=True):\n",
    "    x = 2*(((x - x.min()) / (x.max() - x.min()))-0.5)\n",
    "    if flatten:\n",
    "        x = x.reshape((len(x), -1))\n",
    "    return x\n",
    "\n",
    "def preproc_y(y, num_classes=10):\n",
    "    if y.shape[-1] == 1:\n",
    "        y = keras.utils.to_categorical(y, num_classes)\n",
    "    return y    "
   ]
  },
  {
   "cell_type": "code",
   "execution_count": 33,
   "metadata": {},
   "outputs": [],
   "source": [
    "x_train, y_train = train\n",
    "x_test, y_test = test\n",
    "\n",
    "# Preproc the inputs\n",
    "x_train = preproc_x(x_train)\n",
    "x_test = preproc_x(x_test)\n",
    "\n",
    "# Preprc the outputs\n",
    "y_train = preproc_y(y_train)\n",
    "y_test = preproc_y(y_test)"
   ]
  },
  {
   "cell_type": "code",
   "execution_count": 34,
   "metadata": {},
   "outputs": [],
   "source": [
    "def build_mlp(input_shape, output_units=10, num_neurons=[512, 256, 128, 128, 128]):\n",
    "    input_layer = keras.layers.Input(input_shape)\n",
    "    \n",
    "    for i, n_units in enumerate(num_neurons):\n",
    "        if i == 0:\n",
    "            x = keras.layers.Dense(units=n_units, activation=\"relu\", name=\"hidden_layer\"+str(i+1))(input_layer)\n",
    "        else:\n",
    "            x = keras.layers.Dense(units=n_units, activation=\"relu\", name=\"hidden_layer\"+str(i+1))(x)\n",
    "    \n",
    "    out = keras.layers.Dense(units=output_units, activation=\"softmax\", name=\"output\")(x)\n",
    "    \n",
    "    model = keras.models.Model(inputs=[input_layer], outputs=[out])\n",
    "    return model"
   ]
  },
  {
   "cell_type": "code",
   "execution_count": 35,
   "metadata": {},
   "outputs": [
    {
     "name": "stdout",
     "output_type": "stream",
     "text": [
      "_________________________________________________________________\n",
      "Layer (type)                 Output Shape              Param #   \n",
      "=================================================================\n",
      "input_1 (InputLayer)         (None, 3072)              0         \n",
      "_________________________________________________________________\n",
      "hidden_layer1 (Dense)        (None, 512)               1573376   \n",
      "_________________________________________________________________\n",
      "hidden_layer2 (Dense)        (None, 256)               131328    \n",
      "_________________________________________________________________\n",
      "hidden_layer3 (Dense)        (None, 128)               32896     \n",
      "_________________________________________________________________\n",
      "hidden_layer4 (Dense)        (None, 128)               16512     \n",
      "_________________________________________________________________\n",
      "hidden_layer5 (Dense)        (None, 128)               16512     \n",
      "_________________________________________________________________\n",
      "output (Dense)               (None, 10)                1290      \n",
      "=================================================================\n",
      "Total params: 1,771,914\n",
      "Trainable params: 1,771,914\n",
      "Non-trainable params: 0\n",
      "_________________________________________________________________\n"
     ]
    }
   ],
   "source": [
    "model = build_mlp(input_shape=x_train.shape[1:])\n",
    "model.summary()"
   ]
  },
  {
   "cell_type": "code",
   "execution_count": 36,
   "metadata": {},
   "outputs": [],
   "source": [
    "## 超參數設定\n",
    "LEARNING_RATE = 0.001\n",
    "EPOCHS = 100\n",
    "BATCH_SIZE = 256"
   ]
  },
  {
   "cell_type": "code",
   "execution_count": 37,
   "metadata": {},
   "outputs": [],
   "source": [
    "optimizer = keras.optimizers.Adam(lr=LEARNING_RATE)\n",
    "model.compile(loss=\"categorical_crossentropy\", metrics=[\"accuracy\"], optimizer=optimizer)"
   ]
  },
  {
   "cell_type": "code",
   "execution_count": 38,
   "metadata": {},
   "outputs": [
    {
     "name": "stdout",
     "output_type": "stream",
     "text": [
      "WARNING:tensorflow:From C:\\Users\\TOM\\Anaconda3\\lib\\site-packages\\tensorflow\\python\\ops\\math_ops.py:3066: to_int32 (from tensorflow.python.ops.math_ops) is deprecated and will be removed in a future version.\n",
      "Instructions for updating:\n",
      "Use tf.cast instead.\n",
      "Train on 50000 samples, validate on 10000 samples\n",
      "Epoch 1/100\n",
      "50000/50000 [==============================] - 24s 485us/step - loss: 1.6924 - acc: 0.3960 - val_loss: 1.5383 - val_acc: 0.4516\n",
      "Epoch 2/100\n",
      "50000/50000 [==============================] - 22s 436us/step - loss: 1.4697 - acc: 0.4803 - val_loss: 1.4396 - val_acc: 0.4969\n",
      "Epoch 3/100\n",
      "50000/50000 [==============================] - 22s 448us/step - loss: 1.3454 - acc: 0.5257 - val_loss: 1.4022 - val_acc: 0.5020\n",
      "Epoch 4/100\n",
      "50000/50000 [==============================] - 23s 451us/step - loss: 1.2487 - acc: 0.5618 - val_loss: 1.3861 - val_acc: 0.5173\n",
      "Epoch 5/100\n",
      "50000/50000 [==============================] - 25s 500us/step - loss: 1.1692 - acc: 0.5869 - val_loss: 1.3833 - val_acc: 0.5188\n",
      "Epoch 6/100\n",
      "50000/50000 [==============================] - 22s 450us/step - loss: 1.0943 - acc: 0.6119 - val_loss: 1.3463 - val_acc: 0.5330\n",
      "Epoch 7/100\n",
      "50000/50000 [==============================] - 23s 455us/step - loss: 1.0141 - acc: 0.6403 - val_loss: 1.3789 - val_acc: 0.5297\n",
      "Epoch 8/100\n",
      "50000/50000 [==============================] - 25s 499us/step - loss: 0.9507 - acc: 0.6627 - val_loss: 1.3846 - val_acc: 0.5358\n",
      "Epoch 9/100\n",
      "50000/50000 [==============================] - 24s 475us/step - loss: 0.8720 - acc: 0.6881 - val_loss: 1.4366 - val_acc: 0.5348\n",
      "Epoch 10/100\n",
      "50000/50000 [==============================] - 24s 484us/step - loss: 0.8204 - acc: 0.7090 - val_loss: 1.4832 - val_acc: 0.5353\n",
      "Epoch 11/100\n",
      "50000/50000 [==============================] - 33s 658us/step - loss: 0.7477 - acc: 0.7336 - val_loss: 1.5492 - val_acc: 0.5252\n",
      "Epoch 12/100\n",
      "50000/50000 [==============================] - 26s 518us/step - loss: 0.6898 - acc: 0.7528 - val_loss: 1.5775 - val_acc: 0.5381\n",
      "Epoch 13/100\n",
      "50000/50000 [==============================] - 22s 443us/step - loss: 0.6322 - acc: 0.7752 - val_loss: 1.6786 - val_acc: 0.5190\n",
      "Epoch 14/100\n",
      "50000/50000 [==============================] - 21s 429us/step - loss: 0.5757 - acc: 0.7951 - val_loss: 1.7469 - val_acc: 0.5296\n",
      "Epoch 15/100\n",
      "50000/50000 [==============================] - 22s 435us/step - loss: 0.5409 - acc: 0.8071 - val_loss: 1.7950 - val_acc: 0.5229\n",
      "Epoch 16/100\n",
      "50000/50000 [==============================] - 28s 557us/step - loss: 0.4845 - acc: 0.8282 - val_loss: 1.9017 - val_acc: 0.5264\n",
      "Epoch 17/100\n",
      "50000/50000 [==============================] - 26s 525us/step - loss: 0.4450 - acc: 0.8424 - val_loss: 1.9572 - val_acc: 0.5261\n",
      "Epoch 18/100\n",
      "50000/50000 [==============================] - 24s 483us/step - loss: 0.4050 - acc: 0.8547 - val_loss: 2.1039 - val_acc: 0.5334\n",
      "Epoch 19/100\n",
      "50000/50000 [==============================] - 24s 486us/step - loss: 0.3862 - acc: 0.8631 - val_loss: 2.1646 - val_acc: 0.5305\n",
      "Epoch 20/100\n",
      "50000/50000 [==============================] - 26s 529us/step - loss: 0.3621 - acc: 0.8725 - val_loss: 2.1984 - val_acc: 0.5234\n",
      "Epoch 21/100\n",
      "50000/50000 [==============================] - 27s 538us/step - loss: 0.3389 - acc: 0.8810 - val_loss: 2.3165 - val_acc: 0.5298\n",
      "Epoch 22/100\n",
      "50000/50000 [==============================] - 28s 552us/step - loss: 0.2983 - acc: 0.8957 - val_loss: 2.4335 - val_acc: 0.5283\n",
      "Epoch 23/100\n",
      "50000/50000 [==============================] - 25s 510us/step - loss: 0.2880 - acc: 0.8984 - val_loss: 2.5711 - val_acc: 0.5243\n",
      "Epoch 24/100\n",
      "50000/50000 [==============================] - 25s 492us/step - loss: 0.2716 - acc: 0.9058 - val_loss: 2.4702 - val_acc: 0.5291\n",
      "Epoch 25/100\n",
      "50000/50000 [==============================] - 24s 485us/step - loss: 0.2630 - acc: 0.9078 - val_loss: 2.5908 - val_acc: 0.5346\n",
      "Epoch 26/100\n",
      "50000/50000 [==============================] - 26s 513us/step - loss: 0.2538 - acc: 0.9116 - val_loss: 2.7209 - val_acc: 0.5297\n",
      "Epoch 27/100\n",
      "50000/50000 [==============================] - 26s 519us/step - loss: 0.2264 - acc: 0.9204 - val_loss: 2.7708 - val_acc: 0.5336\n",
      "Epoch 28/100\n",
      "50000/50000 [==============================] - 24s 478us/step - loss: 0.2348 - acc: 0.9192 - val_loss: 2.6993 - val_acc: 0.5235\n",
      "Epoch 29/100\n",
      "50000/50000 [==============================] - 24s 485us/step - loss: 0.2019 - acc: 0.9290 - val_loss: 2.9754 - val_acc: 0.5249\n",
      "Epoch 30/100\n",
      "50000/50000 [==============================] - 30s 596us/step - loss: 0.2098 - acc: 0.9280 - val_loss: 2.9457 - val_acc: 0.5212\n",
      "Epoch 31/100\n",
      "50000/50000 [==============================] - 23s 452us/step - loss: 0.1871 - acc: 0.9366 - val_loss: 2.9535 - val_acc: 0.5279\n",
      "Epoch 32/100\n",
      "50000/50000 [==============================] - 21s 429us/step - loss: 0.1793 - acc: 0.9383 - val_loss: 3.1052 - val_acc: 0.5272\n",
      "Epoch 33/100\n",
      "50000/50000 [==============================] - 21s 423us/step - loss: 0.1904 - acc: 0.9346 - val_loss: 3.1232 - val_acc: 0.5226\n",
      "Epoch 34/100\n",
      "50000/50000 [==============================] - 21s 416us/step - loss: 0.1788 - acc: 0.9395 - val_loss: 3.0271 - val_acc: 0.5240\n",
      "Epoch 35/100\n",
      "50000/50000 [==============================] - 21s 415us/step - loss: 0.1792 - acc: 0.9397 - val_loss: 3.0580 - val_acc: 0.5316\n",
      "Epoch 36/100\n",
      "50000/50000 [==============================] - 22s 442us/step - loss: 0.1474 - acc: 0.9498 - val_loss: 3.2457 - val_acc: 0.5338\n",
      "Epoch 37/100\n",
      "50000/50000 [==============================] - 23s 457us/step - loss: 0.1687 - acc: 0.9429 - val_loss: 3.1952 - val_acc: 0.5171\n",
      "Epoch 38/100\n",
      "50000/50000 [==============================] - 29s 585us/step - loss: 0.1654 - acc: 0.9439 - val_loss: 3.1797 - val_acc: 0.5348\n",
      "Epoch 39/100\n",
      "50000/50000 [==============================] - 22s 441us/step - loss: 0.1531 - acc: 0.9482 - val_loss: 3.3229 - val_acc: 0.5313\n",
      "Epoch 40/100\n",
      "50000/50000 [==============================] - 21s 424us/step - loss: 0.1536 - acc: 0.9467 - val_loss: 3.2632 - val_acc: 0.5348\n",
      "Epoch 41/100\n",
      "50000/50000 [==============================] - 21s 422us/step - loss: 0.1514 - acc: 0.9476 - val_loss: 3.2929 - val_acc: 0.5237\n",
      "Epoch 42/100\n",
      "50000/50000 [==============================] - 21s 427us/step - loss: 0.1251 - acc: 0.9576 - val_loss: 3.4109 - val_acc: 0.5244\n",
      "Epoch 43/100\n",
      "50000/50000 [==============================] - 21s 417us/step - loss: 0.1302 - acc: 0.9555 - val_loss: 3.4784 - val_acc: 0.5294\n",
      "Epoch 44/100\n",
      "50000/50000 [==============================] - 21s 420us/step - loss: 0.1435 - acc: 0.9517 - val_loss: 3.3683 - val_acc: 0.5209\n",
      "Epoch 45/100\n",
      "50000/50000 [==============================] - 21s 423us/step - loss: 0.1309 - acc: 0.9570 - val_loss: 3.3991 - val_acc: 0.5257\n",
      "Epoch 46/100\n",
      "50000/50000 [==============================] - 21s 422us/step - loss: 0.1376 - acc: 0.9535 - val_loss: 3.4187 - val_acc: 0.5236\n",
      "Epoch 47/100\n",
      "50000/50000 [==============================] - 21s 418us/step - loss: 0.1353 - acc: 0.9546 - val_loss: 3.4550 - val_acc: 0.5192\n",
      "Epoch 48/100\n",
      "50000/50000 [==============================] - 21s 418us/step - loss: 0.1298 - acc: 0.9567 - val_loss: 3.4901 - val_acc: 0.5338\n",
      "Epoch 49/100\n",
      "50000/50000 [==============================] - 21s 425us/step - loss: 0.1272 - acc: 0.9572 - val_loss: 3.6435 - val_acc: 0.5228\n",
      "Epoch 50/100\n",
      "50000/50000 [==============================] - 21s 416us/step - loss: 0.1175 - acc: 0.9613 - val_loss: 3.5744 - val_acc: 0.5230\n",
      "Epoch 51/100\n",
      "50000/50000 [==============================] - 21s 426us/step - loss: 0.1128 - acc: 0.9621 - val_loss: 3.5975 - val_acc: 0.5237\n",
      "Epoch 52/100\n",
      "50000/50000 [==============================] - 23s 451us/step - loss: 0.1296 - acc: 0.9581 - val_loss: 3.4998 - val_acc: 0.5127\n",
      "Epoch 53/100\n",
      "50000/50000 [==============================] - 28s 560us/step - loss: 0.1088 - acc: 0.9639 - val_loss: 3.6623 - val_acc: 0.5206\n",
      "Epoch 54/100\n",
      "50000/50000 [==============================] - 23s 466us/step - loss: 0.1193 - acc: 0.9602 - val_loss: 3.5853 - val_acc: 0.5229\n",
      "Epoch 55/100\n",
      "50000/50000 [==============================] - 22s 435us/step - loss: 0.1182 - acc: 0.9606 - val_loss: 3.4951 - val_acc: 0.5317\n",
      "Epoch 56/100\n",
      "50000/50000 [==============================] - 26s 519us/step - loss: 0.1197 - acc: 0.9596 - val_loss: 3.5394 - val_acc: 0.5295\n",
      "Epoch 57/100\n"
     ]
    },
    {
     "name": "stdout",
     "output_type": "stream",
     "text": [
      "50000/50000 [==============================] - 24s 474us/step - loss: 0.1021 - acc: 0.9661 - val_loss: 3.6491 - val_acc: 0.5218\n",
      "Epoch 58/100\n",
      "50000/50000 [==============================] - 21s 426us/step - loss: 0.0934 - acc: 0.9684 - val_loss: 3.7354 - val_acc: 0.5203\n",
      "Epoch 59/100\n",
      "50000/50000 [==============================] - 21s 428us/step - loss: 0.1048 - acc: 0.9658 - val_loss: 3.7333 - val_acc: 0.5280\n",
      "Epoch 60/100\n",
      "50000/50000 [==============================] - 21s 425us/step - loss: 0.1124 - acc: 0.9631 - val_loss: 3.6129 - val_acc: 0.5290\n",
      "Epoch 61/100\n",
      "50000/50000 [==============================] - 21s 426us/step - loss: 0.1055 - acc: 0.9652 - val_loss: 3.6523 - val_acc: 0.5266\n",
      "Epoch 62/100\n",
      "50000/50000 [==============================] - 22s 433us/step - loss: 0.1009 - acc: 0.9671 - val_loss: 3.7643 - val_acc: 0.5272\n",
      "Epoch 63/100\n",
      "50000/50000 [==============================] - 21s 429us/step - loss: 0.0917 - acc: 0.9691 - val_loss: 3.7322 - val_acc: 0.5277\n",
      "Epoch 64/100\n",
      "50000/50000 [==============================] - 22s 440us/step - loss: 0.1033 - acc: 0.9660 - val_loss: 3.6077 - val_acc: 0.5267\n",
      "Epoch 65/100\n",
      "50000/50000 [==============================] - 22s 442us/step - loss: 0.0826 - acc: 0.9727 - val_loss: 3.8194 - val_acc: 0.5284\n",
      "Epoch 66/100\n",
      "50000/50000 [==============================] - 22s 433us/step - loss: 0.1121 - acc: 0.9640 - val_loss: 3.6385 - val_acc: 0.5223\n",
      "Epoch 67/100\n",
      "50000/50000 [==============================] - 22s 448us/step - loss: 0.0942 - acc: 0.9688 - val_loss: 3.7929 - val_acc: 0.5258\n",
      "Epoch 68/100\n",
      "50000/50000 [==============================] - 30s 601us/step - loss: 0.0900 - acc: 0.9710 - val_loss: 3.8438 - val_acc: 0.5263\n",
      "Epoch 69/100\n",
      "50000/50000 [==============================] - 24s 486us/step - loss: 0.0939 - acc: 0.9702 - val_loss: 3.7272 - val_acc: 0.5247\n",
      "Epoch 70/100\n",
      "50000/50000 [==============================] - 23s 457us/step - loss: 0.0855 - acc: 0.9721 - val_loss: 3.7816 - val_acc: 0.5315\n",
      "Epoch 71/100\n",
      "50000/50000 [==============================] - 23s 465us/step - loss: 0.0878 - acc: 0.9716 - val_loss: 3.8356 - val_acc: 0.5200\n",
      "Epoch 72/100\n",
      "50000/50000 [==============================] - 24s 476us/step - loss: 0.1026 - acc: 0.9664 - val_loss: 3.7461 - val_acc: 0.5248\n",
      "Epoch 73/100\n",
      "50000/50000 [==============================] - 22s 432us/step - loss: 0.0925 - acc: 0.9698 - val_loss: 3.8316 - val_acc: 0.5209\n",
      "Epoch 74/100\n",
      "50000/50000 [==============================] - 22s 447us/step - loss: 0.0802 - acc: 0.9733 - val_loss: 3.9433 - val_acc: 0.5247\n",
      "Epoch 75/100\n",
      "50000/50000 [==============================] - 24s 488us/step - loss: 0.0794 - acc: 0.9745 - val_loss: 3.8205 - val_acc: 0.5311\n",
      "Epoch 76/100\n",
      "50000/50000 [==============================] - 26s 523us/step - loss: 0.0955 - acc: 0.9697 - val_loss: 3.7842 - val_acc: 0.5202\n",
      "Epoch 77/100\n",
      "50000/50000 [==============================] - 24s 489us/step - loss: 0.0897 - acc: 0.9703 - val_loss: 3.8359 - val_acc: 0.5264\n",
      "Epoch 78/100\n",
      "50000/50000 [==============================] - 24s 478us/step - loss: 0.0737 - acc: 0.9759 - val_loss: 3.9216 - val_acc: 0.5251\n",
      "Epoch 79/100\n",
      "50000/50000 [==============================] - 23s 454us/step - loss: 0.1109 - acc: 0.9652 - val_loss: 3.6975 - val_acc: 0.5258\n",
      "Epoch 80/100\n",
      "50000/50000 [==============================] - 24s 480us/step - loss: 0.0684 - acc: 0.9772 - val_loss: 3.9053 - val_acc: 0.5297\n",
      "Epoch 81/100\n",
      "50000/50000 [==============================] - 23s 455us/step - loss: 0.0817 - acc: 0.9732 - val_loss: 3.7993 - val_acc: 0.5287\n",
      "Epoch 82/100\n",
      "50000/50000 [==============================] - 25s 506us/step - loss: 0.0772 - acc: 0.9752 - val_loss: 4.0069 - val_acc: 0.5258\n",
      "Epoch 83/100\n",
      "50000/50000 [==============================] - 24s 486us/step - loss: 0.0757 - acc: 0.9755 - val_loss: 3.9401 - val_acc: 0.5333\n",
      "Epoch 84/100\n",
      "50000/50000 [==============================] - 25s 504us/step - loss: 0.0820 - acc: 0.9739 - val_loss: 3.9208 - val_acc: 0.5296\n",
      "Epoch 85/100\n",
      "50000/50000 [==============================] - 31s 614us/step - loss: 0.0831 - acc: 0.9732 - val_loss: 4.0008 - val_acc: 0.5252\n",
      "Epoch 86/100\n",
      "50000/50000 [==============================] - 28s 560us/step - loss: 0.0786 - acc: 0.9749 - val_loss: 4.0635 - val_acc: 0.5279\n",
      "Epoch 87/100\n",
      "50000/50000 [==============================] - 23s 469us/step - loss: 0.0729 - acc: 0.9760 - val_loss: 3.9211 - val_acc: 0.5214\n",
      "Epoch 88/100\n",
      "50000/50000 [==============================] - 24s 472us/step - loss: 0.0847 - acc: 0.9730 - val_loss: 3.9314 - val_acc: 0.5190\n",
      "Epoch 89/100\n",
      "50000/50000 [==============================] - 24s 471us/step - loss: 0.0802 - acc: 0.9740 - val_loss: 3.9003 - val_acc: 0.5191\n",
      "Epoch 90/100\n",
      "50000/50000 [==============================] - 27s 537us/step - loss: 0.0811 - acc: 0.9740 - val_loss: 3.9284 - val_acc: 0.5235\n",
      "Epoch 91/100\n",
      "50000/50000 [==============================] - 28s 550us/step - loss: 0.0856 - acc: 0.9722 - val_loss: 3.7916 - val_acc: 0.5263\n",
      "Epoch 92/100\n",
      "50000/50000 [==============================] - 24s 478us/step - loss: 0.0580 - acc: 0.9812 - val_loss: 3.9658 - val_acc: 0.5300\n",
      "Epoch 93/100\n",
      "50000/50000 [==============================] - 23s 467us/step - loss: 0.0614 - acc: 0.9798 - val_loss: 4.0701 - val_acc: 0.5297\n",
      "Epoch 94/100\n",
      "50000/50000 [==============================] - 31s 615us/step - loss: 0.0729 - acc: 0.9777 - val_loss: 3.8555 - val_acc: 0.5209\n",
      "Epoch 95/100\n",
      "50000/50000 [==============================] - 27s 532us/step - loss: 0.0737 - acc: 0.9769 - val_loss: 3.9198 - val_acc: 0.5218\n",
      "Epoch 96/100\n",
      "50000/50000 [==============================] - 25s 498us/step - loss: 0.0671 - acc: 0.9778 - val_loss: 4.0226 - val_acc: 0.5290\n",
      "Epoch 97/100\n",
      "50000/50000 [==============================] - 23s 469us/step - loss: 0.0858 - acc: 0.9723 - val_loss: 3.9297 - val_acc: 0.5269\n",
      "Epoch 98/100\n",
      "50000/50000 [==============================] - 23s 470us/step - loss: 0.0596 - acc: 0.9806 - val_loss: 4.1777 - val_acc: 0.5114\n",
      "Epoch 99/100\n",
      "50000/50000 [==============================] - 23s 468us/step - loss: 0.0615 - acc: 0.9803 - val_loss: 4.1056 - val_acc: 0.5256\n",
      "Epoch 100/100\n",
      "50000/50000 [==============================] - 26s 513us/step - loss: 0.0807 - acc: 0.9747 - val_loss: 3.8558 - val_acc: 0.5254\n"
     ]
    },
    {
     "data": {
      "text/plain": [
       "<keras.callbacks.History at 0x164000ef860>"
      ]
     },
     "execution_count": 38,
     "metadata": {},
     "output_type": "execute_result"
    }
   ],
   "source": [
    "model.fit(x_train, y_train, \n",
    "          epochs=EPOCHS, \n",
    "          batch_size=BATCH_SIZE, \n",
    "          validation_data=(x_test, y_test), \n",
    "          shuffle=True)"
   ]
  },
  {
   "cell_type": "code",
   "execution_count": 40,
   "metadata": {},
   "outputs": [],
   "source": [
    "import matplotlib.pyplot as plt\n",
    "\n",
    "\n",
    "train_loss = model.history.history[\"loss\"]\n",
    "valid_loss = model.history.history[\"val_loss\"]\n",
    "\n",
    "train_acc = model.history.history[\"acc\"]\n",
    "valid_acc = model.history.history[\"val_acc\"]\n",
    "\n"
   ]
  },
  {
   "cell_type": "code",
   "execution_count": 41,
   "metadata": {},
   "outputs": [
    {
     "data": {
      "image/png": "[encoded data removed]",
      "text/plain": [
       "<Figure size 432x288 with 1 Axes>"
      ]
     },
     "metadata": {
      "needs_background": "light"
     },
     "output_type": "display_data"
    }
   ],
   "source": [
    "plt.plot(range(len(train_loss)), train_loss, label=\"train loss\")\n",
    "plt.plot(range(len(valid_loss)), valid_loss, label=\"valid loss\")\n",
    "plt.legend()\n",
    "plt.title(\"Loss\")\n",
    "plt.show()"
   ]
  },
  {
   "cell_type": "code",
   "execution_count": 42,
   "metadata": {},
   "outputs": [
    {
     "data": {
      "image/png": "[encoded data removed]",
      "text/plain": [
       "<Figure size 432x288 with 1 Axes>"
      ]
     },
     "metadata": {
      "needs_background": "light"
     },
     "output_type": "display_data"
    }
   ],
   "source": [
    "plt.plot(range(len(train_acc)), train_acc, label=\"train accuracy\")\n",
    "plt.plot(range(len(valid_acc)), valid_acc, label=\"valid accuracy\")\n",
    "plt.legend()\n",
    "plt.title(\"Accuracy\")\n",
    "plt.show()"
   ]
  },
  {
   "cell_type": "code",
   "execution_count": null,
   "metadata": {},
   "outputs": [],
   "source": []
  }
 ],
 "metadata": {
  "kernelspec": {
   "display_name": "Python 3",
   "language": "python",
   "name": "python3"
  },
  "language_info": {
   "codemirror_mode": {
    "name": "ipython",
    "version": 3
   },
   "file_extension": ".py",
   "mimetype": "text/x-python",
   "name": "python",
   "nbconvert_exporter": "python",
   "pygments_lexer": "ipython3",
   "version": "3.7.3"
  }
 },
 "nbformat": 4,
 "nbformat_minor": 2
}
