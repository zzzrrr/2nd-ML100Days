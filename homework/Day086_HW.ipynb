{
 "cells": [
  {
   "cell_type": "markdown",
   "metadata": {},
   "source": [
    "## Work\n",
    "1. 試比較 save_best_only 與否的差異\n",
    "2. 請僅存入將 save_weights_only 設定為 True, 並嘗試 reset ipynb 並將模型與權重重新建回並預測 x_test"
   ]
  },
  {
   "cell_type": "code",
   "execution_count": 1,
   "metadata": {},
   "outputs": [
    {
     "name": "stderr",
     "output_type": "stream",
     "text": [
      "Using TensorFlow backend.\n"
     ]
    }
   ],
   "source": [
    "import os\n",
    "import keras\n",
    "\n",
    "# Disable GPU\n",
    "os.environ[\"CUDA_VISIBLE_DEVICES\"] = \"\""
   ]
  },
  {
   "cell_type": "code",
   "execution_count": 2,
   "metadata": {},
   "outputs": [],
   "source": [
    "train, test = keras.datasets.cifar10.load_data()"
   ]
  },
  {
   "cell_type": "code",
   "execution_count": 3,
   "metadata": {},
   "outputs": [],
   "source": [
    "## 資料前處理\n",
    "def preproc_x(x, flatten=True):\n",
    "    x = x / 255.\n",
    "    if flatten:\n",
    "        x = x.reshape((len(x), -1))\n",
    "    return x\n",
    "\n",
    "def preproc_y(y, num_classes=10):\n",
    "    if y.shape[-1] == 1:\n",
    "        y = keras.utils.to_categorical(y, num_classes)\n",
    "    return y    "
   ]
  },
  {
   "cell_type": "code",
   "execution_count": 4,
   "metadata": {},
   "outputs": [],
   "source": [
    "x_train, y_train = train\n",
    "x_test, y_test = test\n",
    "\n",
    "# Preproc the inputs\n",
    "x_train = preproc_x(x_train)\n",
    "x_test = preproc_x(x_test)\n",
    "\n",
    "# Preprc the outputs\n",
    "y_train = preproc_y(y_train)\n",
    "y_test = preproc_y(y_test)"
   ]
  },
  {
   "cell_type": "code",
   "execution_count": 5,
   "metadata": {},
   "outputs": [],
   "source": [
    "from keras.layers import BatchNormalization\n",
    "def build_mlp(input_shape, output_units=10, num_neurons=[512, 256, 128]):\n",
    "    input_layer = keras.layers.Input(input_shape)\n",
    "    \n",
    "    for i, n_units in enumerate(num_neurons):\n",
    "        if i == 0:\n",
    "            x = keras.layers.Dense(units=n_units, \n",
    "                                   activation=\"relu\", \n",
    "                                   name=\"hidden_layer\"+str(i+1))(input_layer)\n",
    "            x = BatchNormalization()(x)\n",
    "        else:\n",
    "            x = keras.layers.Dense(units=n_units, \n",
    "                                   activation=\"relu\", \n",
    "                                   name=\"hidden_layer\"+str(i+1))(x)\n",
    "            x = BatchNormalization()(x)\n",
    "    \n",
    "    out = keras.layers.Dense(units=output_units, activation=\"softmax\", name=\"output\")(x)\n",
    "    \n",
    "    model = keras.models.Model(inputs=[input_layer], outputs=[out])\n",
    "    return model"
   ]
  },
  {
   "cell_type": "code",
   "execution_count": 6,
   "metadata": {},
   "outputs": [],
   "source": [
    "## 超參數設定\n",
    "LEARNING_RATE = 1e-3\n",
    "EPOCHS = 50\n",
    "BATCH_SIZE = 1024\n",
    "MOMENTUM = 0.95"
   ]
  },
  {
   "cell_type": "code",
   "execution_count": 7,
   "metadata": {},
   "outputs": [],
   "source": [
    "# 載入 Callbacks\n",
    "from keras.callbacks import ModelCheckpoint\n",
    "\n",
    "model_ckpt = ModelCheckpoint(filepath=\"./tmp.h5\", \n",
    "                             monitor=\"val_loss\", \n",
    "                             save_best_only=True)"
   ]
  },
  {
   "cell_type": "code",
   "execution_count": 8,
   "metadata": {
    "scrolled": true
   },
   "outputs": [
    {
     "name": "stdout",
     "output_type": "stream",
     "text": [
      "WARNING:tensorflow:From C:\\Users\\TOM\\Anaconda3\\lib\\site-packages\\tensorflow\\python\\framework\\op_def_library.py:263: colocate_with (from tensorflow.python.framework.ops) is deprecated and will be removed in a future version.\n",
      "Instructions for updating:\n",
      "Colocations handled automatically by placer.\n",
      "_________________________________________________________________\n",
      "Layer (type)                 Output Shape              Param #   \n",
      "=================================================================\n",
      "input_1 (InputLayer)         (None, 3072)              0         \n",
      "_________________________________________________________________\n",
      "hidden_layer1 (Dense)        (None, 512)               1573376   \n",
      "_________________________________________________________________\n",
      "batch_normalization_1 (Batch (None, 512)               2048      \n",
      "_________________________________________________________________\n",
      "hidden_layer2 (Dense)        (None, 256)               131328    \n",
      "_________________________________________________________________\n",
      "batch_normalization_2 (Batch (None, 256)               1024      \n",
      "_________________________________________________________________\n",
      "hidden_layer3 (Dense)        (None, 128)               32896     \n",
      "_________________________________________________________________\n",
      "batch_normalization_3 (Batch (None, 128)               512       \n",
      "_________________________________________________________________\n",
      "output (Dense)               (None, 10)                1290      \n",
      "=================================================================\n",
      "Total params: 1,742,474\n",
      "Trainable params: 1,740,682\n",
      "Non-trainable params: 1,792\n",
      "_________________________________________________________________\n",
      "WARNING:tensorflow:From C:\\Users\\TOM\\Anaconda3\\lib\\site-packages\\tensorflow\\python\\ops\\math_ops.py:3066: to_int32 (from tensorflow.python.ops.math_ops) is deprecated and will be removed in a future version.\n",
      "Instructions for updating:\n",
      "Use tf.cast instead.\n",
      "Train on 50000 samples, validate on 10000 samples\n",
      "Epoch 1/50\n",
      "50000/50000 [==============================] - 22s 432us/step - loss: 2.1917 - acc: 0.2798 - val_loss: 2.0713 - val_acc: 0.3256\n",
      "Epoch 2/50\n",
      "50000/50000 [==============================] - 18s 352us/step - loss: 1.7293 - acc: 0.3952 - val_loss: 1.7600 - val_acc: 0.3908\n",
      "Epoch 3/50\n",
      "50000/50000 [==============================] - 18s 365us/step - loss: 1.6089 - acc: 0.4363 - val_loss: 1.6871 - val_acc: 0.4148\n",
      "Epoch 4/50\n",
      "50000/50000 [==============================] - 17s 348us/step - loss: 1.5388 - acc: 0.4601 - val_loss: 1.5989 - val_acc: 0.4407\n",
      "Epoch 5/50\n",
      "50000/50000 [==============================] - 18s 352us/step - loss: 1.4809 - acc: 0.4812 - val_loss: 1.5835 - val_acc: 0.4485\n",
      "Epoch 6/50\n",
      "50000/50000 [==============================] - 17s 349us/step - loss: 1.4375 - acc: 0.4971 - val_loss: 1.5433 - val_acc: 0.4610\n",
      "Epoch 7/50\n",
      "50000/50000 [==============================] - 18s 351us/step - loss: 1.3962 - acc: 0.5122 - val_loss: 1.5212 - val_acc: 0.4658\n",
      "Epoch 8/50\n",
      "50000/50000 [==============================] - 18s 361us/step - loss: 1.3605 - acc: 0.5239 - val_loss: 1.5170 - val_acc: 0.4719\n",
      "Epoch 9/50\n",
      "50000/50000 [==============================] - 17s 347us/step - loss: 1.3279 - acc: 0.5368 - val_loss: 1.5020 - val_acc: 0.4762\n",
      "Epoch 10/50\n",
      "50000/50000 [==============================] - 17s 349us/step - loss: 1.2976 - acc: 0.5489 - val_loss: 1.4866 - val_acc: 0.4816\n",
      "Epoch 11/50\n",
      "50000/50000 [==============================] - 18s 354us/step - loss: 1.2708 - acc: 0.5588 - val_loss: 1.4738 - val_acc: 0.4820\n",
      "Epoch 12/50\n",
      "50000/50000 [==============================] - 18s 355us/step - loss: 1.2432 - acc: 0.5678 - val_loss: 1.4671 - val_acc: 0.4885\n",
      "Epoch 13/50\n",
      "50000/50000 [==============================] - 18s 352us/step - loss: 1.2179 - acc: 0.5788 - val_loss: 1.4591 - val_acc: 0.4888\n",
      "Epoch 14/50\n",
      "50000/50000 [==============================] - 18s 351us/step - loss: 1.1945 - acc: 0.5871 - val_loss: 1.4534 - val_acc: 0.4969\n",
      "Epoch 15/50\n",
      "50000/50000 [==============================] - 17s 347us/step - loss: 1.1658 - acc: 0.5995 - val_loss: 1.4453 - val_acc: 0.4984\n",
      "Epoch 16/50\n",
      "50000/50000 [==============================] - 17s 347us/step - loss: 1.1423 - acc: 0.6080 - val_loss: 1.4418 - val_acc: 0.4950\n",
      "Epoch 17/50\n",
      "50000/50000 [==============================] - 18s 358us/step - loss: 1.1192 - acc: 0.6163 - val_loss: 1.4400 - val_acc: 0.4999\n",
      "Epoch 18/50\n",
      "50000/50000 [==============================] - 18s 357us/step - loss: 1.0967 - acc: 0.6238 - val_loss: 1.4282 - val_acc: 0.5000\n",
      "Epoch 19/50\n",
      "50000/50000 [==============================] - 18s 356us/step - loss: 1.0737 - acc: 0.6324 - val_loss: 1.4717 - val_acc: 0.4899\n",
      "Epoch 20/50\n",
      "50000/50000 [==============================] - 18s 357us/step - loss: 1.0509 - acc: 0.6422 - val_loss: 1.4424 - val_acc: 0.4985\n",
      "Epoch 21/50\n",
      "50000/50000 [==============================] - 18s 366us/step - loss: 1.0310 - acc: 0.6500 - val_loss: 1.4525 - val_acc: 0.4964\n",
      "Epoch 22/50\n",
      "50000/50000 [==============================] - 19s 374us/step - loss: 1.0085 - acc: 0.6584 - val_loss: 1.4404 - val_acc: 0.5034\n",
      "Epoch 23/50\n",
      "50000/50000 [==============================] - 18s 351us/step - loss: 0.9873 - acc: 0.6669 - val_loss: 1.4639 - val_acc: 0.4971\n",
      "Epoch 24/50\n",
      "50000/50000 [==============================] - 18s 352us/step - loss: 0.9664 - acc: 0.6754 - val_loss: 1.4384 - val_acc: 0.5061\n",
      "Epoch 25/50\n",
      "50000/50000 [==============================] - 18s 358us/step - loss: 0.9461 - acc: 0.6837 - val_loss: 1.4504 - val_acc: 0.5023\n",
      "Epoch 26/50\n",
      "50000/50000 [==============================] - 17s 347us/step - loss: 0.9272 - acc: 0.6906 - val_loss: 1.4539 - val_acc: 0.5023\n",
      "Epoch 27/50\n",
      "50000/50000 [==============================] - 18s 358us/step - loss: 0.9055 - acc: 0.6985 - val_loss: 1.4466 - val_acc: 0.5017\n",
      "Epoch 28/50\n",
      "50000/50000 [==============================] - 18s 352us/step - loss: 0.8847 - acc: 0.7078 - val_loss: 1.4541 - val_acc: 0.5059\n",
      "Epoch 29/50\n",
      "50000/50000 [==============================] - 18s 352us/step - loss: 0.8657 - acc: 0.7153 - val_loss: 1.4691 - val_acc: 0.5015\n",
      "Epoch 30/50\n",
      "50000/50000 [==============================] - 18s 359us/step - loss: 0.8457 - acc: 0.7212 - val_loss: 1.4814 - val_acc: 0.4990\n",
      "Epoch 31/50\n",
      "50000/50000 [==============================] - 18s 355us/step - loss: 0.8249 - acc: 0.7324 - val_loss: 1.4707 - val_acc: 0.5026\n",
      "Epoch 32/50\n",
      "50000/50000 [==============================] - 18s 361us/step - loss: 0.8056 - acc: 0.7379 - val_loss: 1.4839 - val_acc: 0.4997\n",
      "Epoch 33/50\n",
      "50000/50000 [==============================] - 18s 357us/step - loss: 0.7868 - acc: 0.7477 - val_loss: 1.4951 - val_acc: 0.5012\n",
      "Epoch 34/50\n",
      "50000/50000 [==============================] - 18s 355us/step - loss: 0.7673 - acc: 0.7542 - val_loss: 1.5060 - val_acc: 0.4963\n",
      "Epoch 35/50\n",
      "50000/50000 [==============================] - 17s 344us/step - loss: 0.7479 - acc: 0.7616 - val_loss: 1.4986 - val_acc: 0.5050\n",
      "Epoch 36/50\n",
      "50000/50000 [==============================] - 17s 345us/step - loss: 0.7289 - acc: 0.7691 - val_loss: 1.5211 - val_acc: 0.4993\n",
      "Epoch 37/50\n",
      "50000/50000 [==============================] - 17s 348us/step - loss: 0.7097 - acc: 0.7771 - val_loss: 1.5075 - val_acc: 0.5004\n",
      "Epoch 38/50\n",
      "50000/50000 [==============================] - 17s 342us/step - loss: 0.6909 - acc: 0.7847 - val_loss: 1.5182 - val_acc: 0.4975\n",
      "Epoch 39/50\n",
      "50000/50000 [==============================] - 18s 352us/step - loss: 0.6746 - acc: 0.7908 - val_loss: 1.5300 - val_acc: 0.5044\n",
      "Epoch 40/50\n",
      "50000/50000 [==============================] - 17s 341us/step - loss: 0.6540 - acc: 0.7997 - val_loss: 1.5612 - val_acc: 0.4971\n",
      "Epoch 41/50\n",
      "50000/50000 [==============================] - 18s 351us/step - loss: 0.6363 - acc: 0.8056 - val_loss: 1.5578 - val_acc: 0.4973\n",
      "Epoch 42/50\n",
      "50000/50000 [==============================] - 17s 346us/step - loss: 0.6180 - acc: 0.8127 - val_loss: 1.5633 - val_acc: 0.4956\n",
      "Epoch 43/50\n",
      "50000/50000 [==============================] - 17s 344us/step - loss: 0.6012 - acc: 0.8194 - val_loss: 1.5784 - val_acc: 0.4957\n",
      "Epoch 44/50\n",
      "50000/50000 [==============================] - 17s 343us/step - loss: 0.5835 - acc: 0.8271 - val_loss: 1.5826 - val_acc: 0.4906\n",
      "Epoch 45/50\n"
     ]
    },
    {
     "name": "stdout",
     "output_type": "stream",
     "text": [
      "50000/50000 [==============================] - 17s 349us/step - loss: 0.5660 - acc: 0.8334 - val_loss: 1.5944 - val_acc: 0.4925\n",
      "Epoch 46/50\n",
      "50000/50000 [==============================] - 17s 343us/step - loss: 0.5486 - acc: 0.8402 - val_loss: 1.6042 - val_acc: 0.4998\n",
      "Epoch 47/50\n",
      "50000/50000 [==============================] - 17s 346us/step - loss: 0.5304 - acc: 0.8500 - val_loss: 1.6248 - val_acc: 0.4895\n",
      "Epoch 48/50\n",
      "50000/50000 [==============================] - 17s 348us/step - loss: 0.5156 - acc: 0.8540 - val_loss: 1.6498 - val_acc: 0.4963\n",
      "Epoch 49/50\n",
      "50000/50000 [==============================] - 17s 343us/step - loss: 0.4984 - acc: 0.8603 - val_loss: 1.6445 - val_acc: 0.4966\n",
      "Epoch 50/50\n",
      "50000/50000 [==============================] - 18s 356us/step - loss: 0.4821 - acc: 0.8675 - val_loss: 1.6529 - val_acc: 0.4891\n"
     ]
    }
   ],
   "source": [
    "model = build_mlp(input_shape=x_train.shape[1:])\n",
    "model.summary()\n",
    "optimizer = keras.optimizers.SGD(lr=LEARNING_RATE, nesterov=True, momentum=MOMENTUM)\n",
    "model.compile(loss=\"categorical_crossentropy\", metrics=[\"accuracy\"], optimizer=optimizer)\n",
    "\n",
    "model.fit(x_train, y_train, \n",
    "          epochs=EPOCHS, \n",
    "          batch_size=BATCH_SIZE, \n",
    "          validation_data=(x_test, y_test), \n",
    "          shuffle=True,\n",
    "          callbacks=[model_ckpt]\n",
    "         )\n",
    "model.save(\"final_model.h5\")\n",
    "model.save_weights(\"model_weights.h5\")\n",
    "# Collect results\n",
    "train_loss = model.history.history[\"loss\"]\n",
    "valid_loss = model.history.history[\"val_loss\"]\n",
    "train_acc = model.history.history[\"acc\"]\n",
    "valid_acc = model.history.history[\"val_acc\"]\n",
    "\n",
    "pred_final = model.predict(x_test)\n",
    "# Load back\n",
    "model = keras.models.load_model(\"./tmp.h5\")\n",
    "pred_loadback = model.predict(x_test)"
   ]
  },
  {
   "cell_type": "code",
   "execution_count": 9,
   "metadata": {},
   "outputs": [
    {
     "name": "stdout",
     "output_type": "stream",
     "text": [
      "Accuracy of final weights: 0.489\n",
      "Accuracy of best weights: 0.500\n"
     ]
    }
   ],
   "source": [
    "from sklearn.metrics import accuracy_score\n",
    "\n",
    "final_model_acc = accuracy_score(y_true=y_test.argmax(axis=-1), y_pred=pred_final.argmax(axis=-1))\n",
    "loadback_acc = accuracy_score(y_true=y_test.argmax(axis=-1), y_pred=pred_loadback.argmax(axis=-1))\n",
    "\n",
    "print(\"Accuracy of final weights: %.3f\" % final_model_acc)\n",
    "print(\"Accuracy of best weights: %.3f\" % loadback_acc)"
   ]
  },
  {
   "cell_type": "code",
   "execution_count": 10,
   "metadata": {},
   "outputs": [
    {
     "name": "stdout",
     "output_type": "stream",
     "text": [
      "Accuracy of best weights: 0.108\n",
      "Accuracy of best weights: 0.489\n"
     ]
    }
   ],
   "source": [
    "new_model = build_mlp(input_shape=x_train.shape[1:])\n",
    "new_model_pred = new_model.predict(x_test)\n",
    "new_model_acc = accuracy_score(y_true=y_test.argmax(axis=-1), y_pred=new_model_pred.argmax(axis=-1))\n",
    "print(\"Accuracy of best weights: %.3f\" % new_model_acc)\n",
    "\n",
    "new_model.load_weights(\"./model_weights.h5\")\n",
    "new_model_pred = new_model.predict(x_test)\n",
    "new_model_loadback_acc = accuracy_score(y_true=y_test.argmax(axis=-1), y_pred=new_model_pred.argmax(axis=-1))\n",
    "print(\"Accuracy of best weights: %.3f\" % new_model_loadback_acc)"
   ]
  },
  {
   "cell_type": "code",
   "execution_count": null,
   "metadata": {},
   "outputs": [],
   "source": []
  }
 ],
 "metadata": {
  "kernelspec": {
   "display_name": "Python 3",
   "language": "python",
   "name": "python3"
  },
  "language_info": {
   "codemirror_mode": {
    "name": "ipython",
    "version": 3
   },
   "file_extension": ".py",
   "mimetype": "text/x-python",
   "name": "python",
   "nbconvert_exporter": "python",
   "pygments_lexer": "ipython3",
   "version": "3.7.3"
  }
 },
 "nbformat": 4,
 "nbformat_minor": 2
}
